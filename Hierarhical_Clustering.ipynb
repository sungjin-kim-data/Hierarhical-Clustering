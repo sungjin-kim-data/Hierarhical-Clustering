{
  "nbformat": 4,
  "nbformat_minor": 0,
  "metadata": {
    "colab": {
      "name": "Hierarhical Clustering",
      "private_outputs": true,
      "provenance": [],
      "authorship_tag": "ABX9TyOjISHkHkgSkwER7uAT4+d+",
      "include_colab_link": true
    },
    "kernelspec": {
      "name": "python3",
      "display_name": "Python 3"
    },
    "language_info": {
      "name": "python"
    }
  },
  "cells": [
    {
      "cell_type": "markdown",
      "metadata": {
        "id": "view-in-github",
        "colab_type": "text"
      },
      "source": [
        "<a href=\"https://colab.research.google.com/github/sungjin-kim-data/Hierarhical-Clustering/blob/master/Hierarhical_Clustering.ipynb\" target=\"_parent\"><img src=\"https://colab.research.google.com/assets/colab-badge.svg\" alt=\"Open In Colab\"/></a>"
      ]
    },
    {
      "cell_type": "code",
      "source": [
        "# improt\n",
        "from sklearn.cluster import AgglomerativeClustering\n",
        "from scipy.cluster.hierarchy import dendrogram"
      ],
      "metadata": {
        "id": "bNwJ4U19gZsU"
      },
      "execution_count": null,
      "outputs": []
    },
    {
      "cell_type": "code",
      "source": [
        "import numpy as np\n",
        "import pandas as pd\n",
        "import math\n",
        "import seaborn as sns\n",
        "import matplotlib.pyplot as plt\n",
        "import sklearn\n",
        "from sklearn.preprocessing import StandardScaler\n",
        "\n",
        "plt.style.use(\"default\")\n",
        "\n",
        "import warnings\n",
        "warnings.simplefilter(action='ignore', category=FutureWarning)"
      ],
      "metadata": {
        "id": "zyFESgM_rT9t"
      },
      "execution_count": null,
      "outputs": []
    },
    {
      "cell_type": "code",
      "source": [
        "# 데이터 불러오기\n",
        "df = pd.read_csv('/content/dataset.csv')\n",
        "df.head()"
      ],
      "metadata": {
        "id": "ZGzdppcprw9z"
      },
      "execution_count": null,
      "outputs": []
    },
    {
      "cell_type": "code",
      "source": [
        "# 데이터 정제\n",
        "#diagnosis columns M은 1, B는 0으로 바꾼 뒤, label이라는 변수에 저장\n",
        "df = df.replace({'diagnosis','M'}, 1)\n",
        "df = df.replace({'diagnosis','B'}, 0)\n",
        "\n",
        "label = df['diagnosis']\n",
        "label[:5]"
      ],
      "metadata": {
        "id": "irlzrU1XrwzF"
      },
      "execution_count": null,
      "outputs": []
    },
    {
      "cell_type": "code",
      "source": [
        "df = df.drop(['id', 'diagnosis', 'Unnamed: 32'], axis = 1)"
      ],
      "metadata": {
        "id": "rF8PFDj5r_Ol"
      },
      "execution_count": null,
      "outputs": []
    },
    {
      "cell_type": "code",
      "source": [
        "# AgglomerativeClustering(n_clusters=2, *, affinity='euclidean', memory=None, connectivity=None, compute_full_tree='auto', linkage='ward', distance_threshold=None, compute_distances=False)\n",
        "ag = AgglomerativeClustering(n_clusters=2, compute_distances=True)\n",
        "ag.fit(df)"
      ],
      "metadata": {
        "id": "O2Qth0CIr_Rj"
      },
      "execution_count": null,
      "outputs": []
    },
    {
      "cell_type": "code",
      "source": [
        "# zeros\n",
        "counts = np.zeros(ag.children_.shape[0])\n",
        "n_samples = len(ag.labels_)"
      ],
      "metadata": {
        "id": "EGN5Sw4tr_Uk"
      },
      "execution_count": null,
      "outputs": []
    },
    {
      "cell_type": "code",
      "source": [
        "# 각 샘플 생성\n",
        "for i, merge in enumerate(ag.children_):\n",
        "  current_count = 0\n",
        "  for child_idx in merge:\n",
        "      if child_idx < n_samples:\n",
        "          current_count += 1  # leaf node\n",
        "      else:\n",
        "          current_count += counts[child_idx - n_samples]\n",
        "  counts[i] = current_count"
      ],
      "metadata": {
        "id": "ZWTnYsEhr_XL"
      },
      "execution_count": null,
      "outputs": []
    },
    {
      "cell_type": "code",
      "source": [
        "linkage_matrix = np.column_stack([ag.children_, ag.distances_, counts]).astype(float)"
      ],
      "metadata": {
        "id": "-l_DR_hVr_aH"
      },
      "execution_count": null,
      "outputs": []
    },
    {
      "cell_type": "code",
      "source": [
        "dendrogram(linkage_matrix)\n",
        "plt.title('Hierarhical Clustering')\n",
        "plt.show()"
      ],
      "metadata": {
        "id": "JhGEVKw2sSBb"
      },
      "execution_count": null,
      "outputs": []
    },
    {
      "cell_type": "markdown",
      "source": [
        "### **다른 예시**"
      ],
      "metadata": {
        "id": "6NlmRdA3sW7c"
      }
    },
    {
      "cell_type": "code",
      "source": [
        "# MNIST digit 이미지 중 20개의 이미지를 무작위로 골라 계층적 군집화를 적용\n",
        "\n",
        "from sklearn.datasets import load_digits\n",
        "\n",
        "digits = load_digits()\n",
        "n_image = 20\n",
        "np.random.seed(0)\n",
        "idx = np.random.choice(range(len(digits.images)), n_image)\n",
        "X = digits.data[idx]\n",
        "images = digits.images[idx]\n",
        "\n",
        "plt.figure(figsize=(12, 1))\n",
        "for i in range(n_image):\n",
        "    plt.subplot(1, n_image, i + 1)\n",
        "    plt.imshow(images[i], cmap=plt.cm.bone)\n",
        "    plt.grid(False)\n",
        "    plt.xticks(())\n",
        "    plt.yticks(())\n",
        "    plt.title(i)"
      ],
      "metadata": {
        "id": "864aPT4VgaAZ"
      },
      "execution_count": null,
      "outputs": []
    },
    {
      "cell_type": "code",
      "source": [
        "from scipy.cluster.hierarchy import linkage, dendrogram\n",
        "\n",
        "Z = linkage(X, 'ward')\n",
        "Z"
      ],
      "metadata": {
        "id": "XLDipQxmgaC-"
      },
      "execution_count": null,
      "outputs": []
    },
    {
      "cell_type": "code",
      "source": [
        "# AgglomerativeClustering 클래스\n",
        "\n",
        "from matplotlib.offsetbox import OffsetImage, AnnotationBbox\n",
        "\n",
        "plt.figure(figsize=(10, 4))\n",
        "ax = plt.subplot()\n",
        "\n",
        "ddata = dendrogram(Z)\n",
        "\n",
        "dcoord = np.array(ddata[\"dcoord\"])\n",
        "icoord = np.array(ddata[\"icoord\"])\n",
        "leaves = np.array(ddata[\"leaves\"])\n",
        "idx = np.argsort(dcoord[:, 2])\n",
        "dcoord = dcoord[idx, :]\n",
        "icoord = icoord[idx, :]\n",
        "idx = np.argsort(Z[:, :2].ravel())\n",
        "label_pos = icoord[:, 1:3].ravel()[idx][:20]\n",
        "\n",
        "for i in range(20):\n",
        "    imagebox = OffsetImage(images[i], cmap=plt.cm.bone_r, interpolation=\"bilinear\", zoom=3)\n",
        "    ab = AnnotationBbox(imagebox, (label_pos[i], 0),  box_alignment=(0.5, -0.1), \n",
        "                        bboxprops={\"edgecolor\" : \"none\"})\n",
        "    ax.add_artist(ab)\n",
        "\n",
        "plt.show()"
      ],
      "metadata": {
        "id": "dBGSMic2o5ia"
      },
      "execution_count": null,
      "outputs": []
    }
  ]
}